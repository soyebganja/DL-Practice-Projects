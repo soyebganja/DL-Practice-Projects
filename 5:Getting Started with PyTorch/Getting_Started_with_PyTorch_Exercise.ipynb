{
  "nbformat": 4,
  "nbformat_minor": 0,
  "metadata": {
    "colab": {
      "provenance": []
    },
    "kernelspec": {
      "name": "python3",
      "display_name": "Python 3"
    },
    "language_info": {
      "name": "python"
    }
  },
  "cells": [
    {
      "cell_type": "markdown",
      "source": [
        "# Problem Statement: **Welcome to AI Town!**\n",
        "\n",
        "### You’ve been hired as an AI engineer in **AI Town**, a futuristic city powered by artificial intelligence. Your job is to use PyTorch to solve foundational challenges that AI Town faces. Each task requires you to demonstrate your expertise with PyTorch basics."
      ],
      "metadata": {
        "id": "q7UkbxIuOsEb"
      }
    },
    {
      "cell_type": "markdown",
      "source": [
        "\n",
        "\n",
        "---\n",
        "\n"
      ],
      "metadata": {
        "id": "gwD-rhXXnhIz"
      }
    },
    {
      "cell_type": "markdown",
      "source": [
        "Imports and CUDA"
      ],
      "metadata": {
        "id": "6JwL8-81yLWK"
      }
    },
    {
      "cell_type": "code",
      "source": [
        "import torch\n",
        "\n",
        "# Check if CUDA (GPU) is available\n",
        "device = torch.device('cuda' if torch.cuda.is_available() else 'cpu')\n",
        "print(f\"Using device: {device}\")\n"
      ],
      "metadata": {
        "id": "yR0_z_79yKEK",
        "colab": {
          "base_uri": "https://localhost:8080/"
        },
        "outputId": "9afe735a-e64b-4dee-e56e-fc2aed13d61f"
      },
      "execution_count": null,
      "outputs": [
        {
          "output_type": "stream",
          "name": "stdout",
          "text": [
            "Using device: cpu\n"
          ]
        }
      ]
    },
    {
      "cell_type": "markdown",
      "source": [
        "\n",
        "\n",
        "---\n",
        "\n"
      ],
      "metadata": {
        "id": "6iiOkre3ye0n"
      }
    },
    {
      "cell_type": "markdown",
      "source": [
        "**Task1: Inventory Management**\n",
        "\n",
        "AI Town’s warehouse uses sensors to record the inventory of 5 items every day. Each day’s data is represented as a list of integers (number of units)."
      ],
      "metadata": {
        "id": "iGT8uIK2nzxa"
      }
    },
    {
      "cell_type": "code",
      "source": [
        "#1 Create a PyTorch Tensor from the following inventory data\n",
        "inventory = [[12, 15, 10, 0, 5],\n",
        "             [10, 8, 7, 5, 4],\n",
        "             [20, 10, 15, 5, 2]]\n",
        "\n",
        "inventory_tensor = torch.tensor(inventory)\n",
        "print(inventory_tensor)"
      ],
      "metadata": {
        "id": "yQj9yyF-pADV",
        "colab": {
          "base_uri": "https://localhost:8080/"
        },
        "outputId": "15236de0-91a6-48d7-d2f7-1524994a2065"
      },
      "execution_count": null,
      "outputs": [
        {
          "output_type": "stream",
          "name": "stdout",
          "text": [
            "tensor([[12, 15, 10,  0,  5],\n",
            "        [10,  8,  7,  5,  4],\n",
            "        [20, 10, 15,  5,  2]])\n"
          ]
        }
      ]
    },
    {
      "cell_type": "code",
      "source": [
        "#2 Find the total inventory for each item across all days\n",
        "total_inventory = inventory_tensor.sum(dim=0)\n",
        "print(total_inventory)"
      ],
      "metadata": {
        "id": "piee_hPCo-VW",
        "colab": {
          "base_uri": "https://localhost:8080/"
        },
        "outputId": "b5f86801-490f-4819-9f32-6e4abd45a06d"
      },
      "execution_count": null,
      "outputs": [
        {
          "output_type": "stream",
          "name": "stdout",
          "text": [
            "tensor([42, 33, 32, 10, 11])\n"
          ]
        }
      ]
    },
    {
      "cell_type": "code",
      "execution_count": null,
      "metadata": {
        "id": "O-0F3R8uObWT",
        "colab": {
          "base_uri": "https://localhost:8080/"
        },
        "outputId": "bf4d8967-acba-499c-fb7a-3dd3f3b37969"
      },
      "outputs": [
        {
          "output_type": "stream",
          "name": "stdout",
          "text": [
            "tensor([ 8.4000,  6.8000, 10.4000])\n"
          ]
        }
      ],
      "source": [
        "#3 Find the average inventory per day\n",
        "average_inventory = inventory_tensor.float().mean(dim=1)\n",
        "print(average_inventory)"
      ]
    },
    {
      "cell_type": "markdown",
      "source": [
        "\n",
        "\n",
        "---\n",
        "\n"
      ],
      "metadata": {
        "id": "4eWH3-JBycim"
      }
    },
    {
      "cell_type": "markdown",
      "source": [
        "**Task2: Monitoring Vehicle Flow**\n",
        "\n",
        "AI Town uses a sensor to monitor the number of vehicles passing through two main roads every hour. The data for one day (24 hours) is represented as two\n",
        "1×24 tensors."
      ],
      "metadata": {
        "id": "jqsNZz1VpDTB"
      }
    },
    {
      "cell_type": "code",
      "source": [
        "#1 Simulate this data using PyTorch's Random Functions\n",
        "torch.manual_seed(42)\n",
        "road1 = torch.randint(50, 200, (24, ), dtype=torch.float)\n",
        "road2 = torch.randint(50, 200, (24, ), dtype=torch.float)\n",
        "print(road1)\n",
        "print(road2)"
      ],
      "metadata": {
        "id": "v0N1_20upZV0",
        "colab": {
          "base_uri": "https://localhost:8080/"
        },
        "outputId": "7e617aee-40ce-4e7c-933d-b64ce158f979"
      },
      "execution_count": null,
      "outputs": [
        {
          "output_type": "stream",
          "name": "stdout",
          "text": [
            "tensor([ 92.,  67., 126., 114., 176.,  85., 120., 124., 150., 163.,  78., 114.,\n",
            "        160., 104., 131.,  72., 115., 195., 167., 156.,  99.,  76., 123.,  61.])\n",
            "tensor([199.,  63.,  91., 119.,  87.,  69., 122.,  80.,  75., 129., 133., 114.,\n",
            "        139.,  76., 132., 110., 136., 122., 177., 119., 107.,  73., 193., 144.])\n"
          ]
        }
      ]
    },
    {
      "cell_type": "code",
      "source": [
        "#2 Write the function to calculate the total vehicle flow for each road across the entire day\n",
        "total_flow_road1 = road1.sum() # total for road1\n",
        "total_flow_road2 = road2.sum() # total for road2\n",
        "print(total_flow_road1)\n",
        "print(total_flow_road2)"
      ],
      "metadata": {
        "id": "o2ldiyONpkp_",
        "colab": {
          "base_uri": "https://localhost:8080/"
        },
        "outputId": "31a92773-9526-4cc7-f031-23c374f13c83"
      },
      "execution_count": null,
      "outputs": [
        {
          "output_type": "stream",
          "name": "stdout",
          "text": [
            "tensor(2868.)\n",
            "tensor(2809.)\n"
          ]
        }
      ]
    },
    {
      "cell_type": "code",
      "source": [
        "#3 Write the function to calculate the total vehicle flow for each hour across both roads\n",
        "def total_vehicle_flow_per_hour(road1, road2):\n",
        "  return torch.stack([road1.sum(), road2.sum()])\n",
        "\n",
        "total_vehicle_flow_per_hour(road1, road2)"
      ],
      "metadata": {
        "id": "PP1ukEgXpvl_",
        "colab": {
          "base_uri": "https://localhost:8080/"
        },
        "outputId": "daf51e56-4581-4a47-88a6-0ac7156f1f1b"
      },
      "execution_count": null,
      "outputs": [
        {
          "output_type": "execute_result",
          "data": {
            "text/plain": [
              "tensor([117., 115.])"
            ]
          },
          "metadata": {},
          "execution_count": 8
        }
      ]
    },
    {
      "cell_type": "markdown",
      "source": [],
      "metadata": {
        "id": "Iw2lN6n7AaT1"
      }
    },
    {
      "cell_type": "markdown",
      "source": [
        "\n",
        "\n",
        "---\n",
        "\n"
      ],
      "metadata": {
        "id": "wkp5wRVHygcH"
      }
    },
    {
      "cell_type": "markdown",
      "source": [
        "**Task3: Fitness Matrix**\n",
        "\n",
        "The AI Gym tracks members’ fitness scores using a 3×3 matrix for *strength*, *stamina*, and f*lexibility*. Each row represents a different member, and each column represents a specific metric."
      ],
      "metadata": {
        "id": "9_03v1baqBBB"
      }
    },
    {
      "cell_type": "code",
      "source": [
        "#1 Create a 3*3 tensor matrix and multiply the scores of each member by a weight factor: [0.8, 1.2, 1.5]\n",
        "torch.manual_seed(42)\n",
        "fitness_matrix = torch.randint(1, 10, (3, 3), dtype=torch.float)\n",
        "print(fitness_matrix)"
      ],
      "metadata": {
        "id": "GlQTZKI6rZ5X",
        "colab": {
          "base_uri": "https://localhost:8080/"
        },
        "outputId": "87941bce-9aac-4c23-ce82-6d34208b6c39"
      },
      "execution_count": null,
      "outputs": [
        {
          "output_type": "stream",
          "name": "stdout",
          "text": [
            "tensor([[7., 6., 8.],\n",
            "        [5., 1., 3.],\n",
            "        [8., 6., 5.]])\n"
          ]
        }
      ]
    },
    {
      "cell_type": "code",
      "source": [
        "#2 Find the row-wise and column-wise maximum scores\n",
        "print(torch.max(fitness_matrix, dim=0))\n",
        "print(torch.max(fitness_matrix, dim=1))\n"
      ],
      "metadata": {
        "id": "_uce_-rXr1un",
        "colab": {
          "base_uri": "https://localhost:8080/"
        },
        "outputId": "445c0692-f945-4e0b-dd8a-58a80753c20f"
      },
      "execution_count": null,
      "outputs": [
        {
          "output_type": "stream",
          "name": "stdout",
          "text": [
            "torch.return_types.max(\n",
            "values=tensor([8., 6., 8.]),\n",
            "indices=tensor([2, 0, 0]))\n",
            "torch.return_types.max(\n",
            "values=tensor([8., 5., 8.]),\n",
            "indices=tensor([2, 0, 0]))\n"
          ]
        }
      ]
    },
    {
      "cell_type": "code",
      "source": [
        "#3 Transpose the fitness matrix and interpret it's new structure (shape)\n",
        "print(fitness_matrix.T)\n"
      ],
      "metadata": {
        "id": "WIapNxZ6r4Dn",
        "colab": {
          "base_uri": "https://localhost:8080/"
        },
        "outputId": "7266e11f-d9d4-4749-86cb-c970d00a8a13"
      },
      "execution_count": null,
      "outputs": [
        {
          "output_type": "stream",
          "name": "stdout",
          "text": [
            "tensor([[7., 5., 8.],\n",
            "        [6., 1., 6.],\n",
            "        [8., 3., 5.]])\n"
          ]
        }
      ]
    },
    {
      "cell_type": "markdown",
      "source": [
        "\n",
        "\n",
        "---\n",
        "\n"
      ],
      "metadata": {
        "id": "LlDlQS0Vyh8W"
      }
    },
    {
      "cell_type": "markdown",
      "source": [
        "**Task4: Chain Rule in Action**\n",
        "\n",
        "AI Lab is running experiments to understand the effect of temperature (\n",
        "x) on a chemical reaction rate (y). The relationship is given as:\n",
        "$y = 2x^3 + 5x^2 - 3x + 7$\n",
        "\n"
      ],
      "metadata": {
        "id": "03ROjCDosA1-"
      }
    },
    {
      "cell_type": "code",
      "source": [
        "#1 Use PyTorch to compute 'y' for x = 4\n",
        "x = torch.tensor(4.0, requires_grad=True)\n",
        "y = 2 * x**3 + 5 * x**2 - 3 * x + 7\n",
        "print(y)"
      ],
      "metadata": {
        "id": "3A33YR0QvHjn",
        "colab": {
          "base_uri": "https://localhost:8080/"
        },
        "outputId": "7305ebed-ed88-4165-a512-6ff77bf6fe12"
      },
      "execution_count": null,
      "outputs": [
        {
          "output_type": "stream",
          "name": "stdout",
          "text": [
            "tensor(203., grad_fn=<AddBackward0>)\n"
          ]
        }
      ]
    },
    {
      "cell_type": "code",
      "source": [
        "#2 Calculate dy/dx(gradient) using PyTorch's autograd\n",
        "y.backward()\n",
        "print(x.grad)\n"
      ],
      "metadata": {
        "id": "-9I7GHC2vyi2",
        "colab": {
          "base_uri": "https://localhost:8080/"
        },
        "outputId": "edd21a33-cd32-4442-e3f4-e6f2146f2bee"
      },
      "execution_count": null,
      "outputs": [
        {
          "output_type": "stream",
          "name": "stdout",
          "text": [
            "tensor(133.)\n"
          ]
        }
      ]
    },
    {
      "cell_type": "markdown",
      "source": [
        "\n",
        "\n",
        "---\n",
        "\n"
      ],
      "metadata": {
        "id": "cWs5gdmiylYe"
      }
    },
    {
      "cell_type": "markdown",
      "source": [
        "**Task5: Camera Calibration**\n",
        "\n",
        "AI Town’s surveillance cameras need to align their focus. You are given the following matrices for two cameras’ focus adjustments:"
      ],
      "metadata": {
        "id": "12iKFr_NwC7d"
      }
    },
    {
      "cell_type": "code",
      "source": [
        "'''\n",
        "camera1 = torch.tensor([[1, 2], [3, 4]])\n",
        "camera2 = torch.tensor([[5, 6], [7, 8]])\n",
        "'''"
      ],
      "metadata": {
        "id": "3syFy2GlwLRZ",
        "colab": {
          "base_uri": "https://localhost:8080/",
          "height": 35
        },
        "outputId": "6c09e496-2712-4162-f57f-f6f1c364aaad"
      },
      "execution_count": null,
      "outputs": [
        {
          "output_type": "execute_result",
          "data": {
            "text/plain": [
              "'\\ncamera1 = torch.tensor([[1, 2], [3, 4]])\\ncamera2 = torch.tensor([[5, 6], [7, 8]])\\n'"
            ],
            "application/vnd.google.colaboratory.intrinsic+json": {
              "type": "string"
            }
          },
          "metadata": {},
          "execution_count": 14
        }
      ]
    },
    {
      "cell_type": "code",
      "source": [
        "#1 Perform an element-wise multiplication of matrices ( Hadamard Product)\n",
        "camera1 = torch.tensor([[1, 2], [3, 4]], dtype=torch.float)\n",
        "camera2 = torch.tensor([[5, 6], [7, 8]], dtype=torch.float)\n",
        "torch.mul(camera1, camera2)\n"
      ],
      "metadata": {
        "id": "xJH8T-85wO_B",
        "colab": {
          "base_uri": "https://localhost:8080/"
        },
        "outputId": "fed94986-1bc2-426d-8260-a8b927d71a23"
      },
      "execution_count": null,
      "outputs": [
        {
          "output_type": "execute_result",
          "data": {
            "text/plain": [
              "tensor([[ 5., 12.],\n",
              "        [21., 32.]])"
            ]
          },
          "metadata": {},
          "execution_count": 31
        }
      ]
    },
    {
      "cell_type": "code",
      "source": [
        "#2 Compute Dot Product of the two matrices\n",
        "torch.matmul(camera1, camera2)\n"
      ],
      "metadata": {
        "id": "yL5otP3FwZY8",
        "colab": {
          "base_uri": "https://localhost:8080/"
        },
        "outputId": "e874f56f-f7c0-43e8-e1ef-43c467a1de72"
      },
      "execution_count": null,
      "outputs": [
        {
          "output_type": "execute_result",
          "data": {
            "text/plain": [
              "tensor([[19., 22.],\n",
              "        [43., 50.]])"
            ]
          },
          "metadata": {},
          "execution_count": 32
        }
      ]
    },
    {
      "cell_type": "code",
      "source": [
        "#3 Compute the Determinant of each matrix\n",
        "print(torch.linalg.det(camera1))\n",
        "print(torch.linalg.det(camera2))\n"
      ],
      "metadata": {
        "id": "97dWTkQzxBaH",
        "colab": {
          "base_uri": "https://localhost:8080/"
        },
        "outputId": "8026fd60-168d-400f-a68b-64e4b43427f2"
      },
      "execution_count": null,
      "outputs": [
        {
          "output_type": "stream",
          "name": "stdout",
          "text": [
            "tensor(-2.)\n",
            "tensor(-2.0000)\n"
          ]
        }
      ]
    },
    {
      "cell_type": "markdown",
      "source": [
        "\n",
        "\n",
        "---\n",
        "\n"
      ],
      "metadata": {
        "id": "dtQXmntaym2T"
      }
    },
    {
      "cell_type": "markdown",
      "source": [
        "**Task6: Neural Network Foundations**\n",
        "\n",
        "Our AI University uses simplified single neuron model (perceptron):\n",
        "$$y = wx + b$$"
      ],
      "metadata": {
        "id": "tA6tObX4xFLE"
      }
    },
    {
      "cell_type": "code",
      "source": [
        "#1 Create tensors for w  = 2, b = 1, x = [1, 2, 3, 4]\n",
        "w = torch.tensor(2.0, requires_grad=True)\n",
        "b = torch.tensor(1.0, requires_grad=True)\n",
        "x = torch.tensor([1, 2, 3, 4], dtype=torch.float, requires_grad=True)\n"
      ],
      "metadata": {
        "id": "CAynFZXZxf53"
      },
      "execution_count": null,
      "outputs": []
    },
    {
      "cell_type": "code",
      "source": [
        "#2 Compute tensors for y\n",
        "y = w * x + b\n",
        "print(y)\n"
      ],
      "metadata": {
        "id": "sAtHYFNDxqy-",
        "colab": {
          "base_uri": "https://localhost:8080/"
        },
        "outputId": "9514ca4b-d3f7-44da-dd2c-02909ed80605"
      },
      "execution_count": null,
      "outputs": [
        {
          "output_type": "stream",
          "name": "stdout",
          "text": [
            "tensor([3., 5., 7., 9.], grad_fn=<AddBackward0>)\n"
          ]
        }
      ]
    },
    {
      "cell_type": "markdown",
      "source": [
        "\n",
        "\n",
        "---\n",
        "\n"
      ],
      "metadata": {
        "id": "3PLDt7oKyoI6"
      }
    }
  ]
}