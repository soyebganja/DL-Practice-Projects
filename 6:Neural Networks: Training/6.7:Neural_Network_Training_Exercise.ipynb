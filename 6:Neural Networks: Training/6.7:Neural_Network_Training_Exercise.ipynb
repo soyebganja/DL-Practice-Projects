{
  "nbformat": 4,
  "nbformat_minor": 0,
  "metadata": {
    "colab": {
      "provenance": [],
      "gpuType": "T4",
      "include_colab_link": true
    },
    "kernelspec": {
      "name": "python3",
      "display_name": "Python 3"
    },
    "language_info": {
      "name": "python"
    },
    "accelerator": "GPU"
  },
  "cells": [
    {
      "cell_type": "markdown",
      "metadata": {
        "id": "view-in-github",
        "colab_type": "text"
      },
      "source": [
        "<a href=\"https://colab.research.google.com/github/soyebganja/DL-Practice-Projects/blob/main/6%3ANeural%20Networks%3A%20Training/6.7%3ANeural_Network_Training_Exercise.ipynb\" target=\"_parent\"><img src=\"https://colab.research.google.com/assets/colab-badge.svg\" alt=\"Open In Colab\"/></a>"
      ]
    },
    {
      "cell_type": "markdown",
      "source": [
        "# Problem Statement: **Training in Agricultural Company**\n",
        "\n",
        "### In this chapter, you’ll explore the foundational aspects of training neural networks in AI-oriented Agricultural company. You’ll work as an AI engineer to train models that solve critical challenges in different domains. Along the way, you’ll learn about gradient descent, batch processing, and training neural networks from scratch.\n",
        "\n",
        "References:\n",
        "* Column Stack (Numpy) [link](https://numpy.org/doc/stable/reference/generated/numpy.column_stack.html)\n",
        "\n",
        "* PyTorch Tensors (PyTorch) [link](https://pytorch.org/tutorials/beginner/introyt/tensors_deeper_tutorial.html)\n",
        "\n",
        "* Sequential (PyTorch) [link](https://pytorch.org/docs/stable/generated/torch.nn.Sequential.html)"
      ],
      "metadata": {
        "id": "AMWT24IcCq1N"
      }
    },
    {
      "cell_type": "markdown",
      "source": [
        "Imports and CUDA"
      ],
      "metadata": {
        "id": "w7qTZ-o7DRTP"
      }
    },
    {
      "cell_type": "code",
      "execution_count": 2,
      "metadata": {
        "colab": {
          "base_uri": "https://localhost:8080/"
        },
        "id": "QVRQzxnKCbRL",
        "outputId": "ed1cb46b-9ee3-4678-dbb8-e273a005add5"
      },
      "outputs": [
        {
          "output_type": "stream",
          "name": "stdout",
          "text": [
            "Using device: cuda\n"
          ]
        }
      ],
      "source": [
        "import torch\n",
        "import numpy as np\n",
        "import torch.nn as nn\n",
        "import torch.optim as optim\n",
        "import matplotlib.pyplot as plt\n",
        "import pandas as pd\n",
        "from sklearn.model_selection import train_test_split\n",
        "from sklearn.preprocessing import MinMaxScaler\n",
        "\n",
        "# Check if CUDA (GPU) is available\n",
        "device = torch.device('cuda' if torch.cuda.is_available() else 'cpu')\n",
        "print(f\"Using device: {device}\")"
      ]
    },
    {
      "cell_type": "markdown",
      "source": [
        "### **Task1: Predicting Equipment Costs**\n",
        "\n",
        "The AI Agriculture Company is developing a tool to predict the cost of manufacturing its new agricultural equipment. The cost is directly proportional to the square of the material used. Your task is to compute and predict the cost, and debug the gradients of the implemented backpropagation process.\n",
        "\n",
        "Use when required: $$ f(x) = x^2$$"
      ],
      "metadata": {
        "id": "VRPCoIeNOAPw"
      }
    },
    {
      "cell_type": "markdown",
      "source": [
        "**Step1:** Define the Problem\n",
        "\n",
        "Assume the material required is represented as a single feature: **material_amount**. For simplicity:\n",
        "\n",
        "* **Input:** material_amount (a tensor of size (1, 1)) — e.g., 5 units of material.\n",
        "* **Target cost:** material_amount ** 2 — the cost of producing the equipment."
      ],
      "metadata": {
        "id": "JDYY9uleUxBC"
      }
    },
    {
      "cell_type": "code",
      "source": [
        "# Material amount as input (e.g., 5 units)\n",
        "material_amount = torch.tensor([[5.0]], requires_grad=False)\n",
        "\n",
        "# Target cost (cost = material_amount ** 2)\n",
        "target_cost = material_amount ** 2\n",
        "\n",
        "material_amount, target_cost"
      ],
      "metadata": {
        "id": "JIih0kRoViAx",
        "colab": {
          "base_uri": "https://localhost:8080/"
        },
        "outputId": "7aee7ca1-ba88-414e-f908-7c3f70bc778b"
      },
      "execution_count": 3,
      "outputs": [
        {
          "output_type": "execute_result",
          "data": {
            "text/plain": [
              "(tensor([[5.]]), tensor([[25.]]))"
            ]
          },
          "metadata": {},
          "execution_count": 3
        }
      ]
    },
    {
      "cell_type": "markdown",
      "source": [
        "**Step2:** Set Up the Model\n",
        "\n",
        "Use a single-layer linear model to predict the cost. The model should:\n",
        "\n",
        "* Take material_amount as input.\n",
        "* Output the predicted cost (scalar)."
      ],
      "metadata": {
        "id": "MbRa2fmNVic8"
      }
    },
    {
      "cell_type": "code",
      "source": [
        "# Start with random weights and zero biases\n",
        "torch.manual_seed(0)\n",
        "weight = torch.tensor([[0.5]], requires_grad=True)\n",
        "bias = torch.tensor([[0.0]], requires_grad=True)\n",
        "\n",
        "# Linear model: predicted_cost = weight * material_amount + bias\n",
        "predicted_cost = torch.matmul(material_amount, weight) + bias\n",
        "\n",
        "weight, bias, predicted_cost, material_amount"
      ],
      "metadata": {
        "id": "x2PbKdlmV5ir",
        "colab": {
          "base_uri": "https://localhost:8080/"
        },
        "outputId": "36a34e22-6c9c-405d-f120-ca7baeb75fdc"
      },
      "execution_count": 4,
      "outputs": [
        {
          "output_type": "execute_result",
          "data": {
            "text/plain": [
              "(tensor([[0.5000]], requires_grad=True),\n",
              " tensor([[0.]], requires_grad=True),\n",
              " tensor([[2.5000]], grad_fn=<AddBackward0>),\n",
              " tensor([[5.]]))"
            ]
          },
          "metadata": {},
          "execution_count": 4
        }
      ]
    },
    {
      "cell_type": "markdown",
      "source": [
        "**Step3:** Compute Loss\n",
        "\n",
        "Use Mean Squared Error **(MSE)** to calculate the loss between the predicted and actual costs."
      ],
      "metadata": {
        "id": "y4mPVdW0V5_9"
      }
    },
    {
      "cell_type": "code",
      "source": [
        "# Loss function: Mean Squared Error (MSE)\n",
        "# loss_fn = nn.MSELoss()\n",
        "# loss = loss_fn(predicted_cost, target_cost)\n",
        "loss = torch.mean((predicted_cost - target_cost) ** 2)\n",
        "loss"
      ],
      "metadata": {
        "id": "IMRhR4-5WJgS",
        "colab": {
          "base_uri": "https://localhost:8080/"
        },
        "outputId": "1d37e5dc-1709-4f16-b07b-5d4986b4f8db"
      },
      "execution_count": 5,
      "outputs": [
        {
          "output_type": "execute_result",
          "data": {
            "text/plain": [
              "tensor(506.2500, grad_fn=<MeanBackward0>)"
            ]
          },
          "metadata": {},
          "execution_count": 5
        }
      ]
    },
    {
      "cell_type": "markdown",
      "source": [
        "**Step4:** Backpropagation\n",
        "\n",
        "* Write the gradient descent process step-by-step.\n",
        "* Manually compute the gradients of the loss with respect to the model's weights and biases using the chain rule.\n"
      ],
      "metadata": {
        "id": "p3KtHjd2WJ7V"
      }
    },
    {
      "cell_type": "code",
      "source": [
        "# Calculate the gradient of the loss w.r.t. predicted_cost\n",
        "grad_predicted_cost = 2 * (predicted_cost - target_cost) / target_cost.size(0)\n",
        "\n",
        "# Calculate the gradient of predicted_cost w.r.t. weight and bias\n",
        "weight_grad = torch.matmul(material_amount.t(), grad_predicted_cost)\n",
        "bias_grad = torch.sum(grad_predicted_cost)\n",
        "\n",
        "weight_grad, bias_grad"
      ],
      "metadata": {
        "id": "ury9YtJbxjxa",
        "colab": {
          "base_uri": "https://localhost:8080/"
        },
        "outputId": "6f946aec-adbb-4d81-95d5-12cc93d4cce4"
      },
      "execution_count": 6,
      "outputs": [
        {
          "output_type": "execute_result",
          "data": {
            "text/plain": [
              "(tensor([[-225.]], grad_fn=<MmBackward0>),\n",
              " tensor(-45., grad_fn=<SumBackward0>))"
            ]
          },
          "metadata": {},
          "execution_count": 6
        }
      ]
    },
    {
      "cell_type": "markdown",
      "source": [
        "**Step5:** Verify Gradients\n",
        "\n",
        "Use **torch.autograd** to compute gradients automatically and compare them with your manual calculations.\n",
        "\n",
        "You can use **allclose** to check whether all elements of two tensors are approximately equal, within a specified tolerance.\n",
        "\n",
        "https://pytorch.org/docs/stable/generated/torch.allclose.html"
      ],
      "metadata": {
        "id": "vQkAqhsmWY1-"
      }
    },
    {
      "cell_type": "code",
      "source": [
        "# Code Here\n",
        "loss.backward()\n",
        "print(f\"Weight Gradient: {weight.grad}\")\n",
        "print(f\"Bias Gradient: {bias.grad}\")\n"
      ],
      "metadata": {
        "id": "CWS7RR2eXIC1",
        "colab": {
          "base_uri": "https://localhost:8080/"
        },
        "outputId": "4eb66bf9-13e4-43c4-f3ea-70b68ca5696f"
      },
      "execution_count": 7,
      "outputs": [
        {
          "output_type": "stream",
          "name": "stdout",
          "text": [
            "Weight Gradient: tensor([[-225.]])\n",
            "Bias Gradient: tensor([[-45.]])\n"
          ]
        }
      ]
    },
    {
      "cell_type": "code",
      "source": [
        "# Compare Gradients\n",
        "print(\"Manual Gradients:\")\n",
        "print(\"Weight Gradient:\", weight_grad.item())\n",
        "print(\"Bias Gradient:\", bias_grad.item())\n",
        "\n",
        "print(\"\\nAutograd Gradients:\")\n",
        "print(\"Weight Gradient:\", weight.grad.item())\n",
        "print(\"Bias Gradient:\", bias.grad.item())\n",
        "\n",
        "# Verify the Gradients\n",
        "print(\"\\nGradient Verification:\")\n",
        "print(\"Weight Gradients Match:\", torch.allclose(weight_grad, weight.grad, atol=1e-6))\n",
        "print(\"Bias Gradients Match:\", torch.allclose(bias_grad, bias.grad, atol=1e-6))"
      ],
      "metadata": {
        "colab": {
          "base_uri": "https://localhost:8080/"
        },
        "id": "asmnP0RW1IkN",
        "outputId": "5292468b-7d65-4ca6-b366-931bbfee1667"
      },
      "execution_count": 8,
      "outputs": [
        {
          "output_type": "stream",
          "name": "stdout",
          "text": [
            "Manual Gradients:\n",
            "Weight Gradient: -225.0\n",
            "Bias Gradient: -45.0\n",
            "\n",
            "Autograd Gradients:\n",
            "Weight Gradient: -225.0\n",
            "Bias Gradient: -45.0\n",
            "\n",
            "Gradient Verification:\n",
            "Weight Gradients Match: True\n",
            "Bias Gradients Match: True\n"
          ]
        }
      ]
    },
    {
      "cell_type": "markdown",
      "source": [
        "\n",
        "\n",
        "---\n",
        "\n"
      ],
      "metadata": {
        "id": "U56K7C-qQ5_L"
      }
    },
    {
      "cell_type": "markdown",
      "source": [
        "### **Task2: Optimizing Equipment Production with Neural Networks**\n",
        "\n",
        "The AI Agriculture Company wants to predict the efficiency of manufacturing equipment based on two input features:\n",
        "\n",
        "* Weekly hours spent on machine maintenance\n",
        "* Weekly hours spent on training factory workers.\n",
        "\n",
        "The company believes these two factors significantly impact production efficiency, which is represented as a score between 0 and 1. Your task is to build and train a simple neural network to predict this efficiency score."
      ],
      "metadata": {
        "id": "owGLtVZQTRsG"
      }
    },
    {
      "cell_type": "markdown",
      "source": [
        "**Step 1:** Dataset Details\n",
        "\n",
        "Simulate a dataset with the following properties:\n",
        "\n",
        "* Feature 1: Machine Maintenance Hours (range: 5 to 50 hours).\n",
        "* Feature 2: Training Hours for Workers (range: 2 to 20 hours).\n",
        "* Target Output: Efficiency score calculated as:\n",
        "\n",
        "$$ Efficiency Score= (0.4⋅Maintenance Hours+0.6⋅Training Hours)/5$$\n",
        "​\n",
        "\n"
      ],
      "metadata": {
        "id": "ObFXxToqZudV"
      }
    },
    {
      "cell_type": "code",
      "source": [
        "# Complete the code here\n",
        "np.random.seed(42)\n",
        "machine_maintenance_hours = np.random.uniform(5, 50, 500)  # Maintenance hours\n",
        "training_hours = np.random.uniform(2, 20, 500)             # Training hours\n",
        "efficiency_score = (0.4 * machine_maintenance_hours + 0.6* training_hours) / 50 # Efficiency score\n",
        "\n",
        "# Combine into a dataset\n",
        "X = np.column_stack((machine_maintenance_hours, training_hours))\n",
        "y = efficiency_score.reshape(-1, 1)\n",
        "\n"
      ],
      "metadata": {
        "id": "uhIRf13wTiFb"
      },
      "execution_count": 9,
      "outputs": []
    },
    {
      "cell_type": "markdown",
      "source": [
        "**Step 2**: Split the dataset into training (80%) and validation (20%) sets."
      ],
      "metadata": {
        "id": "_8z-ELN0aIua"
      }
    },
    {
      "cell_type": "code",
      "source": [
        "# Code Here\n",
        "X_train, X_val, y_train, y_val = train_test_split(X, y, test_size=0.2, random_state=42)"
      ],
      "metadata": {
        "id": "aRFzPKFdaajZ"
      },
      "execution_count": 10,
      "outputs": []
    },
    {
      "cell_type": "markdown",
      "source": [
        "**Step3:** Normalize input features to improve training stability."
      ],
      "metadata": {
        "id": "nHskK6xHabGi"
      }
    },
    {
      "cell_type": "code",
      "source": [
        "scaler = MinMaxScaler()\n",
        "X = scaler.fit_transform(X)\n",
        "# X_val = scaler.transform(X_val)"
      ],
      "metadata": {
        "id": "0AfJlpOparCh"
      },
      "execution_count": 11,
      "outputs": []
    },
    {
      "cell_type": "code",
      "source": [
        "# Convert data to PyTorch tensors\n",
        "X_train = torch.tensor(X_train, dtype=torch.float32)\n",
        "y_train = torch.tensor(y_train, dtype=torch.float32)\n",
        "X_val = torch.tensor(X_val, dtype=torch.float32)\n",
        "y_val = torch.tensor(y_val, dtype=torch.float32)"
      ],
      "metadata": {
        "id": "PDGeXcisuvgm"
      },
      "execution_count": 12,
      "outputs": []
    },
    {
      "cell_type": "markdown",
      "source": [
        "**Step4:** Define a neural network with the following structure:\n",
        "\n",
        "* Input Layer: 2 neurons (for the two input features).\n",
        "* Hidden Layer: 5 neurons with ReLU activation.\n",
        "* Output Layer: 1 neuron with sigmoid activation (to output a value between 0 and 1).\n"
      ],
      "metadata": {
        "id": "9QTYqeJra68l"
      }
    },
    {
      "cell_type": "code",
      "source": [
        "model = nn.Sequential(\n",
        "    nn.Linear(2, 5),  # 2 input features, 5 hidden neurons\n",
        "    nn.ReLU(),        # ReLU activation\n",
        "    nn.Linear(5, 1),  # 1 output neuron\n",
        "    nn.Sigmoid()      # Sigmoid activation for efficiency score\n",
        ")"
      ],
      "metadata": {
        "id": "uXr1hLVwa0wL"
      },
      "execution_count": 13,
      "outputs": []
    },
    {
      "cell_type": "markdown",
      "source": [
        "**Step5**: Train the network using:\n",
        "\n",
        "* **Optimizers**: SGD.\n",
        "* **Epochs**: 200.\n",
        "* **Learning Rates**: 0.01."
      ],
      "metadata": {
        "id": "IvJP8mjca8EP"
      }
    },
    {
      "cell_type": "code",
      "source": [
        "def train_model(model, loss_fn, optimizer, X, y, X_val, y_val, epochs):\n",
        "  train_losses, val_losses = [], []\n",
        "  for epoch in range(epochs):\n",
        "    model.train()\n",
        "    # Forward pass\n",
        "    y_pred = model(X)\n",
        "\n",
        "    # Compute loss\n",
        "    loss = loss_fn(y_pred, y)\n",
        "\n",
        "    # Backward pass and optimization\n",
        "    optimizer.zero_grad()\n",
        "    loss.backward()\n",
        "    optimizer.step()\n",
        "\n",
        "    # Validation\n",
        "    model.eval()\n",
        "    with torch.no_grad():\n",
        "      val_pred = model(X_val)\n",
        "      val_loss = loss_fn(val_pred, y_val)\n",
        "\n",
        "    train_losses.append(loss.item())\n",
        "    val_losses.append(val_loss.item())\n",
        "\n",
        "    if (epoch + 1) % 50 == 0 or epoch == 0:\n",
        "      print(f'Epoch [{epoch + 1}/{epochs}], Loss: {loss.item():.4f}, Val Loss: {val_loss.item():.4f}')\n",
        "\n",
        "  return train_losses, val_losses\n",
        "\n",
        "# Step 6: Train and evaluate the model\n",
        "epochs = 500\n",
        "learning_rate = 0.05\n",
        "\n",
        "optimizer = optim.SGD(model.parameters(), lr=learning_rate)\n",
        "loss_fn = nn.MSELoss()\n",
        "\n",
        "print(\"\\nTraining the model...\")\n",
        "train_losses, val_losses = train_model(model, loss_fn, optimizer, X_train, y_train, X_val, y_val, epochs)\n"
      ],
      "metadata": {
        "id": "s9tmzV-IbDgR",
        "colab": {
          "base_uri": "https://localhost:8080/"
        },
        "outputId": "1e0a6b36-6c3c-4c57-d67c-74268f8d3c7c"
      },
      "execution_count": 14,
      "outputs": [
        {
          "output_type": "stream",
          "name": "stdout",
          "text": [
            "\n",
            "Training the model...\n",
            "Epoch [1/500], Loss: 0.0652, Val Loss: 0.0536\n",
            "Epoch [50/500], Loss: 0.0301, Val Loss: 0.0326\n",
            "Epoch [100/500], Loss: 0.0263, Val Loss: 0.0285\n",
            "Epoch [150/500], Loss: 0.0238, Val Loss: 0.0258\n",
            "Epoch [200/500], Loss: 0.0218, Val Loss: 0.0237\n",
            "Epoch [250/500], Loss: 0.0201, Val Loss: 0.0220\n",
            "Epoch [300/500], Loss: 0.0186, Val Loss: 0.0204\n",
            "Epoch [350/500], Loss: 0.0173, Val Loss: 0.0191\n",
            "Epoch [400/500], Loss: 0.0161, Val Loss: 0.0178\n",
            "Epoch [450/500], Loss: 0.0151, Val Loss: 0.0167\n",
            "Epoch [500/500], Loss: 0.0141, Val Loss: 0.0157\n"
          ]
        }
      ]
    },
    {
      "cell_type": "markdown",
      "source": [
        "**Step6:**  Plot and analyze the convergence curves for training and validation loss"
      ],
      "metadata": {
        "id": "3w6lR90ebD_i"
      }
    },
    {
      "cell_type": "code",
      "source": [
        "# Code Here\n",
        "plt.figure(figsize=(10, 6))\n",
        "plt.plot(train_losses, label=\"Training Loss\")\n",
        "plt.plot(val_losses, label=\"Validation Loss\", linestyle=\"--\")\n",
        "plt.title(\"Loss Convergence\")\n",
        "plt.xlabel(\"Epochs\")\n",
        "plt.ylabel(\"Loss\")\n",
        "plt.legend()\n",
        "plt.show()"
      ],
      "metadata": {
        "id": "psR_lEurbNIp",
        "colab": {
          "base_uri": "https://localhost:8080/",
          "height": 564
        },
        "outputId": "d38d4b96-ebb0-4581-c570-1ddbf83fccd9"
      },
      "execution_count": 15,
      "outputs": [
        {
          "output_type": "display_data",
          "data": {
            "text/plain": [
              "<Figure size 1000x600 with 1 Axes>"
            ],
            "image/png": "[encoded data removed]"
          },
          "metadata": {}
        }
      ]
    },
    {
      "cell_type": "markdown",
      "source": [
        "**Bonus:** Modify epochs to 500 and learning rate to 0.05 and analyse the graph"
      ],
      "metadata": {
        "id": "2aa7BLa95gBY"
      }
    },
    {
      "cell_type": "markdown",
      "source": [
        "\n",
        "\n",
        "---\n",
        "\n"
      ],
      "metadata": {
        "id": "qjL-YESATyt_"
      }
    },
    {
      "cell_type": "markdown",
      "source": [
        "### **Task3: Predicting Crop Yield in AgroTech**\n",
        "\n",
        "In AgroTech, an agriculture-focused town, farmers rely on AI systems to predict crop yields based on weather and soil data.\n",
        "\n",
        "Your task is to build and train a neural network to predict Crop Yield (tons/ha) using features from the provided dataset **(agriculture_dataset_codebasics_DL.csv)**."
      ],
      "metadata": {
        "id": "mrJ4LHZiTz5a"
      }
    },
    {
      "cell_type": "markdown",
      "source": [
        "**Dataset Overview**\n",
        "\n",
        "The agriculture_dataset.csv file contains the following features:\n",
        "\n",
        "* Temperature (C): Average temperature during the growing season.\n",
        "\n",
        "* Rainfall (mm): Total rainfall during the growing season.\n",
        "\n",
        "* Soil_pH: Soil acidity (range: 0-14).\n",
        "\n",
        "* Nitrogen (mg/kg): Nitrogen content in the soil.\n",
        "\n",
        "* Irrigation_Hours: Total hours of irrigation during the growing season.\n",
        "\n",
        "* Fertilizer_Usage (kg/ha): Total fertilizer used per hectare.\n",
        "\n",
        "* Crop_Yield (tons/ha): Target variable representing the crop yield."
      ],
      "metadata": {
        "id": "DOcZzq94iTCA"
      }
    },
    {
      "cell_type": "markdown",
      "source": [
        "**Goal**\n",
        "\n",
        "Train a neural network to predict the crop yield using Batch Gradient Descent, Mini-Batch Gradient Descent, and Stochastic Gradient Descent.\n",
        "\n",
        "Compare their performance by plotting loss convergence over epochs."
      ],
      "metadata": {
        "id": "ZFGxLGhiir-9"
      }
    },
    {
      "cell_type": "markdown",
      "source": [
        "**Step 1:** Load and split the dataset"
      ],
      "metadata": {
        "id": "KrxibUQ5iz7w"
      }
    },
    {
      "cell_type": "code",
      "source": [
        "# Load the dataset\n",
        "df = pd.read_csv('agriculture_dataset_codebasics_DL.csv')\n",
        "df.head()\n",
        "\n",
        "# Split data into features and target\n",
        "X = df[['Temperature (C)', 'Rainfall (mm)', 'Soil pH', 'Nitrogen (mg/kg)', 'Irrigation Hours', 'Fertilizer Usage (kg/ha)']].values\n",
        "y = df['Crop Yield (tons/ha)'].values.reshape(-1, 1)"
      ],
      "metadata": {
        "id": "aiPmoJGHi1jb"
      },
      "execution_count": 31,
      "outputs": []
    },
    {
      "cell_type": "markdown",
      "source": [
        "**Step 2:** Normalize the input features to a range of 0-1 and perform an **80%-20%** train-validation split."
      ],
      "metadata": {
        "id": "BWuxNl5ii2IF"
      }
    },
    {
      "cell_type": "code",
      "source": [
        "# Code\n",
        "scaler = MinMaxScaler()\n",
        "X = scaler.fit_transform(X)\n",
        "\n",
        "X_train, X_val, y_train, y_val = train_test_split(X, y, test_size=0.2, random_state=42)"
      ],
      "metadata": {
        "id": "-zCs0SbSi5Az"
      },
      "execution_count": 32,
      "outputs": []
    },
    {
      "cell_type": "code",
      "source": [
        "# Convert data to PyTorch Tensors\n",
        "X_train = torch.tensor(X_train, dtype=torch.float32)\n",
        "y_train = torch.tensor(y_train, dtype=torch.float32)\n",
        "X_val = torch.tensor(X_val, dtype=torch.float32)\n",
        "y_val = torch.tensor(y_val, dtype=torch.float32)"
      ],
      "metadata": {
        "id": "ZfARwFEbv9_h"
      },
      "execution_count": 33,
      "outputs": []
    },
    {
      "cell_type": "markdown",
      "source": [
        "**Step 3:** Define a neural network architecture\n",
        "\n",
        "**Input:** 6 features (Temperature, Rainfall, Soil pH, Nitrogen, Irrigation Hours, Fertilizer Usage).\n",
        "\n",
        "**Hidden Layer:** 10 neurons with ReLU activation.\n",
        "\n",
        "**Output:** 1 neuron with linear activation (for regression)."
      ],
      "metadata": {
        "id": "9d3pW6ZGi6X5"
      }
    },
    {
      "cell_type": "code",
      "source": [
        "# Code Here\n",
        "model = nn.Sequential(\n",
        "    nn.Linear(6, 10),  # 6 input features, 10 hidden neurons\n",
        "    nn.ReLU(),        # ReLU activation\n",
        "    nn.Linear(10, 1)  # 1 output neuron\n",
        ")\n",
        "\n",
        "# Define the loss function\n",
        "loss_fn = torch.nn.MSELoss()"
      ],
      "metadata": {
        "id": "anJo6ifrkI7-"
      },
      "execution_count": 35,
      "outputs": []
    },
    {
      "cell_type": "markdown",
      "source": [
        "**Step 4:** Train the network using\n",
        "\n",
        "Batch Gradient Descent (GD):Update weights after processing the entire dataset.\n",
        "\n",
        "Mini-Batch Gradient Descent: Update weights after processing batches of size 16.\n",
        "\n",
        "Stochastic Gradient Descent (SGD): Update weights after every data point."
      ],
      "metadata": {
        "id": "_Rcfk3Y3kJsX"
      }
    },
    {
      "cell_type": "code",
      "source": [
        "# Training function for different GD methods\n",
        "def train_model(optimizer, X, y, epochs=50, batch_size=None):\n",
        "  losses = []\n",
        "  for epoch in range(epochs):\n",
        "    epoch_loss = 0.0\n",
        "    if batch_size is None:\n",
        "      # Batch Gradient Descent (GD)\n",
        "      y_pred = model(X)\n",
        "      loss = loss_fn(y_pred, y)\n",
        "      loss.backward()\n",
        "      optimizer.step()\n",
        "      optimizer.zero_grad()\n",
        "      epoch_loss = loss.item()\n",
        "    else:\n",
        "      # Mini-Batch Gradient Descent or SGD\n",
        "      for batch_start in range(0, len(X), batch_size):\n",
        "        batch_end = batch_start + batch_size\n",
        "        batch_X = X[batch_start:batch_end]\n",
        "        batch_y = y[batch_start:batch_end]\n",
        "        y_pred = model(batch_X)\n",
        "        loss = loss_fn(y_pred, batch_y)\n",
        "        loss.backward()\n",
        "        optimizer.step()\n",
        "        optimizer.zero_grad()\n",
        "        epoch_loss += loss.item()\n",
        "\n",
        "    losses.append(epoch_loss / X.size(0))\n",
        "    # # Validation\n",
        "    # model.eval()\n",
        "    # with torch.no_grad():\n",
        "    #   val_pred = model(X_val)\n",
        "    #   val_loss = loss_fn(val_pred, y_val)\n",
        "\n",
        "    if (epoch + 1) % 50 ==0 or epoch == 0:\n",
        "      print(f'Epoch [{epoch + 1}/{epochs}], Loss: {loss.item():.4f}')\n",
        "\n",
        "  return losses\n",
        "\n",
        "\n",
        "print(\"\\nTraining the model GD...\")\n",
        "# Train the model using Batch GD\n",
        "optimizer = optim.SGD(model.parameters(), lr=0.01)\n",
        "losses_batch = train_model(optimizer, X_train, y_train, epochs=50, batch_size=None)\n",
        "\n",
        "print(\"\\nTraining the model MGD...\")\n",
        "# Reset model\n",
        "model = torch.nn.Sequential(\n",
        "    torch.nn.Linear(6, 10),\n",
        "    torch.nn.ReLU(),\n",
        "    torch.nn.Linear(10, 1)\n",
        ")\n",
        "# Train the model using Mini-Batch GD\n",
        "optimizer = optim.SGD(model.parameters(), lr=0.01)\n",
        "losses_mini_batch = train_model(optimizer, X_train, y_train, epochs=50, batch_size=16)\n",
        "\n",
        "print(\"\\nTraining the model MGD...\")\n",
        "# Reset model\n",
        "model = torch.nn.Sequential(\n",
        "    torch.nn.Linear(6, 10),\n",
        "    torch.nn.ReLU(),\n",
        "    torch.nn.Linear(10, 1)\n",
        ")\n",
        "# Train the model using Stochastic GD\n",
        "optimizer = optim.SGD(model.parameters(), lr=0.01)\n",
        "losses_sgd = train_model(optimizer, X_train, y_train, epochs=50, batch_size=1)\n"
      ],
      "metadata": {
        "id": "ytTSQWLWkU_A",
        "colab": {
          "base_uri": "https://localhost:8080/"
        },
        "outputId": "211f5e52-652e-4f38-b04d-1f3b4bc5d887"
      },
      "execution_count": 49,
      "outputs": [
        {
          "output_type": "stream",
          "name": "stdout",
          "text": [
            "\n",
            "Training the model GD...\n",
            "Epoch [1/50], Loss: 0.0008\n",
            "Epoch [50/50], Loss: 0.0008\n",
            "\n",
            "Training the model MGD...\n",
            "Epoch [1/50], Loss: 11.1936\n",
            "Epoch [50/50], Loss: 0.0391\n",
            "\n",
            "Training the model MGD...\n",
            "Epoch [1/50], Loss: 11.3561\n",
            "Epoch [50/50], Loss: 0.0111\n"
          ]
        }
      ]
    },
    {
      "cell_type": "markdown",
      "source": [
        "**Step 5:** Plot the loss over epochs for each method."
      ],
      "metadata": {
        "id": "ZrVyXVFlkaKv"
      }
    },
    {
      "cell_type": "code",
      "source": [
        "plt.figure(figsize=(10, 6))\n",
        "plt.plot(losses_batch, label='Batch GD', marker='o')\n",
        "plt.plot(losses_mini_batch, label='Mini-Batch GD', marker='x')\n",
        "plt.plot(losses_sgd, label='Stochastic GD', marker='^')\n",
        "plt.xlabel('Epochs')\n",
        "plt.ylabel('Loss')\n",
        "plt.title('Gradient Descent Strategies: Loss Convergence')\n",
        "plt.legend()\n",
        "plt.show()"
      ],
      "metadata": {
        "id": "gbNfMhYikeyC",
        "colab": {
          "base_uri": "https://localhost:8080/",
          "height": 564
        },
        "outputId": "f32defab-dfca-4360-9cd6-06180ac49fd3"
      },
      "execution_count": 50,
      "outputs": [
        {
          "output_type": "display_data",
          "data": {
            "text/plain": [
              "<Figure size 1000x600 with 1 Axes>"
            ],
            "image/png": "[encoded data removed]"
          },
          "metadata": {}
        }
      ]
    },
    {
      "cell_type": "markdown",
      "source": [
        "**Step 6:** Evaluate the model's Mean Squared Error (MSE) on the validation set."
      ],
      "metadata": {
        "id": "Sl0hir7okfXC"
      }
    },
    {
      "cell_type": "code",
      "source": [
        "with torch.no_grad():\n",
        "  y_val_pred = model(X_val)\n",
        "  mse = loss_fn(y_val_pred, y_val)\n",
        "  print(f\"Validation Loss: {mse}\")\n"
      ],
      "metadata": {
        "id": "cwhsjoxskknr",
        "colab": {
          "base_uri": "https://localhost:8080/"
        },
        "outputId": "9533e101-71cd-490f-fc7f-08408b0e6c0d"
      },
      "execution_count": 51,
      "outputs": [
        {
          "output_type": "stream",
          "name": "stdout",
          "text": [
            "Validation Loss: 0.011305204592645168\n"
          ]
        }
      ]
    },
    {
      "cell_type": "code",
      "source": [],
      "metadata": {
        "id": "W1RN_N0Y2iGC"
      },
      "execution_count": null,
      "outputs": []
    }
  ]
}