{
  "nbformat": 4,
  "nbformat_minor": 0,
  "metadata": {
    "colab": {
      "provenance": [],
      "authorship_tag": "ABX9TyMwifYPD5TwhkTqHgCPbWJU",
      "include_colab_link": true
    },
    "kernelspec": {
      "name": "python3",
      "display_name": "Python 3"
    },
    "language_info": {
      "name": "python"
    }
  },
  "cells": [
    {
      "cell_type": "markdown",
      "metadata": {
        "id": "view-in-github",
        "colab_type": "text"
      },
      "source": [
        "<a href=\"https://colab.research.google.com/github/soyebganja/DL-Practice-Projects/blob/main/9%3AModel%20Optimization%3A%20Regularization%20Techniques/9_4_Batch_Normalization.ipynb\" target=\"_parent\"><img src=\"https://colab.research.google.com/assets/colab-badge.svg\" alt=\"Open In Colab\"/></a>"
      ]
    },
    {
      "cell_type": "code",
      "execution_count": 25,
      "metadata": {
        "colab": {
          "base_uri": "https://localhost:8080/"
        },
        "id": "xwNM-4poVxI1",
        "outputId": "85e7030c-3fe8-463e-c800-177f57679530"
      },
      "outputs": [
        {
          "output_type": "stream",
          "name": "stdout",
          "text": [
            "cpu\n"
          ]
        }
      ],
      "source": [
        "import torch\n",
        "import torch.nn as nn\n",
        "import torch.nn as nn\n",
        "from torch.utils.data import DataLoader, Subset\n",
        "from torchvision import datasets, transforms\n",
        "import matplotlib.pyplot as plt\n",
        "import torch.optim as optim\n",
        "import numpy as np\n",
        "from sklearn.metrics import accuracy_score\n",
        "\n",
        "device = torch.device('cuda' if torch.cuda.is_available() else 'cpu')\n",
        "print(device)"
      ]
    },
    {
      "cell_type": "code",
      "source": [
        "# Load and normalize the MNIST dataset\n",
        "transform = transforms.Compose([transforms.ToTensor(), transforms.Normalize((0.5,), (0.5,))])\n",
        "\n",
        "full_train_dataset = datasets.MNIST(root='./data', train=True, download=True, transform=transform)\n",
        "full_test_dataset = datasets.MNIST(root='./data', train=False, download=True, transform=transform)\n",
        "\n",
        "train_subset = Subset(full_train_dataset, range(5000))\n",
        "test_subset = Subset(full_test_dataset, range(1000))\n",
        "\n",
        "train_loader = DataLoader(train_subset, batch_size=64, shuffle=True)\n",
        "test_loader = DataLoader(test_subset, batch_size=64, shuffle=False)"
      ],
      "metadata": {
        "id": "QOv3OYVdWDiU"
      },
      "execution_count": 26,
      "outputs": []
    },
    {
      "cell_type": "markdown",
      "source": [
        "### Train a Neural Network Without Batch Normalization"
      ],
      "metadata": {
        "id": "MpQsatvAcxRN"
      }
    },
    {
      "cell_type": "code",
      "source": [
        "# Define the model\n",
        "class MNISTClassifier(nn.Module):\n",
        "  def __init__(self):\n",
        "    super().__init__()\n",
        "    self.network = nn.Sequential(\n",
        "      nn.Flatten(),\n",
        "      nn.Linear(28*28, 128),\n",
        "      nn.ReLU(),\n",
        "      nn.Linear(128, 64),\n",
        "      nn.ReLU(),\n",
        "      nn.Linear(64, 10)\n",
        "    )\n",
        "\n",
        "  def forward(self, x):\n",
        "    return self.network(x)"
      ],
      "metadata": {
        "id": "O3W6qD-FcqI6"
      },
      "execution_count": 27,
      "outputs": []
    },
    {
      "cell_type": "code",
      "source": [
        "# Training Function\n",
        "def train_model(model, train_loader, val_loader, criterion, optimizer, num_epochs=20):\n",
        "    val_accuracies = []\n",
        "    for epoch in range(num_epochs):\n",
        "        model.train()\n",
        "        for batch, (images, labels) in enumerate(train_loader):\n",
        "            images, labels = images.to(device), labels.to(device)\n",
        "            optimizer.zero_grad()\n",
        "            outputs = model(images)\n",
        "            loss = criterion(outputs, labels.long())\n",
        "            loss.backward()\n",
        "            optimizer.step()\n",
        "\n",
        "            if (batch) % 100 == 0:\n",
        "                print(f\"Epoch [{epoch}/{num_epochs}], Batch [{batch}/{len(train_loader)}], Loss: {loss.item():.4f}\")\n",
        "\n",
        "        # validation phase\n",
        "        model.eval()\n",
        "        y_pred, y_true = [], []\n",
        "        with torch.no_grad():\n",
        "            for inputs, labels in test_loader:\n",
        "                inputs, labels = inputs.to(device), labels.to(device)\n",
        "                outputs = model(inputs)\n",
        "                loss = criterion(outputs, labels.long())\n",
        "                _, predicted = torch.max(outputs, 1)\n",
        "                y_pred.extend(predicted.cpu().numpy())\n",
        "                y_true.extend(labels.cpu().numpy())\n",
        "\n",
        "        val_accuracy = accuracy_score(y_true, y_pred)\n",
        "        val_accuracies.append(val_accuracy)\n",
        "\n",
        "    return val_accuracies"
      ],
      "metadata": {
        "id": "GIoHd8x5d31y"
      },
      "execution_count": 28,
      "outputs": []
    },
    {
      "cell_type": "code",
      "source": [
        "# Instantiate the model, define loss function and optimizer\n",
        "model = MNISTClassifier().to(device)\n",
        "criterion = nn.CrossEntropyLoss()\n",
        "optimizer = optim.Adam(model.parameters(), lr=0.001)\n",
        "\n",
        "val_accuracies_no_bn = train_model(model, train_loader, test_loader, criterion, optimizer, 10)"
      ],
      "metadata": {
        "colab": {
          "base_uri": "https://localhost:8080/"
        },
        "id": "gPDe5G9Chqhv",
        "outputId": "82ba139c-4f72-4b44-e527-1cac4039b254"
      },
      "execution_count": 29,
      "outputs": [
        {
          "output_type": "stream",
          "name": "stdout",
          "text": [
            "Epoch [0/10], Batch [0/79], Loss: 2.2986\n",
            "Epoch [1/10], Batch [0/79], Loss: 0.4994\n",
            "Epoch [2/10], Batch [0/79], Loss: 0.3708\n",
            "Epoch [3/10], Batch [0/79], Loss: 0.3911\n",
            "Epoch [4/10], Batch [0/79], Loss: 0.2130\n",
            "Epoch [5/10], Batch [0/79], Loss: 0.2196\n",
            "Epoch [6/10], Batch [0/79], Loss: 0.1511\n",
            "Epoch [7/10], Batch [0/79], Loss: 0.2090\n",
            "Epoch [8/10], Batch [0/79], Loss: 0.0793\n",
            "Epoch [9/10], Batch [0/79], Loss: 0.1748\n"
          ]
        }
      ]
    },
    {
      "cell_type": "code",
      "source": [
        "print(val_accuracies_no_bn)"
      ],
      "metadata": {
        "colab": {
          "base_uri": "https://localhost:8080/"
        },
        "id": "Be5IwTuBqGiL",
        "outputId": "a282c45d-bc20-4ac4-9ff3-8210f84a82a7"
      },
      "execution_count": 30,
      "outputs": [
        {
          "output_type": "stream",
          "name": "stdout",
          "text": [
            "[0.839, 0.84, 0.873, 0.885, 0.878, 0.884, 0.895, 0.893, 0.9, 0.888]\n"
          ]
        }
      ]
    },
    {
      "cell_type": "markdown",
      "source": [
        "### Train a Neural Network With Batch Normalization"
      ],
      "metadata": {
        "id": "Pj_eH0lXqr3e"
      }
    },
    {
      "cell_type": "code",
      "source": [
        "# Define the model\n",
        "class MNISTClassifierWithBN(nn.Module):\n",
        "  def __init__(self):\n",
        "    super().__init__()\n",
        "    self.network = nn.Sequential(\n",
        "      nn.Flatten(),\n",
        "      nn.Linear(28*28, 128),\n",
        "      nn.BatchNorm1d(128),\n",
        "      nn.ReLU(),\n",
        "      nn.Linear(128, 64),\n",
        "      nn.BatchNorm1d(64),\n",
        "      nn.ReLU(),\n",
        "      nn.Linear(64, 10)\n",
        "    )\n",
        "\n",
        "  def forward(self, x):\n",
        "    return self.network(x)"
      ],
      "metadata": {
        "id": "omSzzOLRqMXO"
      },
      "execution_count": 31,
      "outputs": []
    },
    {
      "cell_type": "code",
      "source": [
        "# Instantiate the model, define loss function and optimizer\n",
        "model_with_bn = MNISTClassifierWithBN().to(device)\n",
        "criterion_with_bn = nn.CrossEntropyLoss()\n",
        "optimizer_with_bn = optim.Adam(model_with_bn.parameters(), lr=0.001)\n",
        "\n",
        "val_accuracies_with_bn = train_model(model_with_bn, train_loader, test_loader, criterion_with_bn, optimizer_with_bn, 10)"
      ],
      "metadata": {
        "colab": {
          "base_uri": "https://localhost:8080/"
        },
        "id": "756b3GtLrOAr",
        "outputId": "58128501-de1a-4d65-d8d3-5d2248b6766f"
      },
      "execution_count": 32,
      "outputs": [
        {
          "output_type": "stream",
          "name": "stdout",
          "text": [
            "Epoch [0/10], Batch [0/79], Loss: 2.4408\n",
            "Epoch [1/10], Batch [0/79], Loss: 0.3935\n",
            "Epoch [2/10], Batch [0/79], Loss: 0.1358\n",
            "Epoch [3/10], Batch [0/79], Loss: 0.1423\n",
            "Epoch [4/10], Batch [0/79], Loss: 0.1428\n",
            "Epoch [5/10], Batch [0/79], Loss: 0.0792\n",
            "Epoch [6/10], Batch [0/79], Loss: 0.0502\n",
            "Epoch [7/10], Batch [0/79], Loss: 0.0197\n",
            "Epoch [8/10], Batch [0/79], Loss: 0.0399\n",
            "Epoch [9/10], Batch [0/79], Loss: 0.0089\n"
          ]
        }
      ]
    },
    {
      "cell_type": "code",
      "source": [
        "print(val_accuracies_with_bn)"
      ],
      "metadata": {
        "colab": {
          "base_uri": "https://localhost:8080/"
        },
        "id": "hAV8cAoVrZdk",
        "outputId": "e0d75604-092a-4f9f-fa88-3fed21f0d57f"
      },
      "execution_count": 33,
      "outputs": [
        {
          "output_type": "stream",
          "name": "stdout",
          "text": [
            "[0.889, 0.911, 0.913, 0.92, 0.928, 0.937, 0.934, 0.938, 0.94, 0.933]\n"
          ]
        }
      ]
    },
    {
      "cell_type": "code",
      "source": [
        "plt.plot(val_accuracies_no_bn, label='No Batch Normalization')\n",
        "plt.plot(val_accuracies_with_bn, label='With Batch Normalization')\n",
        "plt.xlabel('Epoch')\n",
        "plt.ylabel('Validation Accuracy')\n",
        "plt.legend()\n",
        "plt.show()"
      ],
      "metadata": {
        "colab": {
          "base_uri": "https://localhost:8080/",
          "height": 449
        },
        "id": "L9O5skKGrcgu",
        "outputId": "c8c080c4-77f9-4c5e-e39c-3629b2969adc"
      },
      "execution_count": 34,
      "outputs": [
        {
          "output_type": "display_data",
          "data": {
            "text/plain": [
              "<Figure size 640x480 with 1 Axes>"
            ],
            "image/png": "[encoded data removed]"
          },
          "metadata": {}
        }
      ]
    },
    {
      "cell_type": "code",
      "source": [],
      "metadata": {
        "id": "OnRUqOtHsHVg"
      },
      "execution_count": 34,
      "outputs": []
    }
  ]
}