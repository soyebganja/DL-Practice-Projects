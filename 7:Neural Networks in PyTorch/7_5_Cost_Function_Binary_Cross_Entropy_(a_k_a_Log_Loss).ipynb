{
  "nbformat": 4,
  "nbformat_minor": 0,
  "metadata": {
    "colab": {
      "provenance": [],
      "authorship_tag": "ABX9TyPnEXWD1MT7CgVYZbSQcMy4",
      "include_colab_link": true
    },
    "kernelspec": {
      "name": "python3",
      "display_name": "Python 3"
    },
    "language_info": {
      "name": "python"
    }
  },
  "cells": [
    {
      "cell_type": "markdown",
      "metadata": {
        "id": "view-in-github",
        "colab_type": "text"
      },
      "source": [
        "<a href=\"https://colab.research.google.com/github/soyebganja/DL-Practice-Projects/blob/main/7%3ANeural%20Networks%20in%20PyTorch/7_5_Cost_Function_Binary_Cross_Entropy_(a_k_a_Log_Loss).ipynb\" target=\"_parent\"><img src=\"https://colab.research.google.com/assets/colab-badge.svg\" alt=\"Open In Colab\"/></a>"
      ]
    },
    {
      "cell_type": "code",
      "execution_count": null,
      "metadata": {
        "id": "fXq_jNbMSAUe"
      },
      "outputs": [],
      "source": [
        "import torch\n",
        "import torch.nn as nn"
      ]
    },
    {
      "cell_type": "code",
      "source": [
        "criterion = nn.MSELoss()\n",
        "\n",
        "y_pred = torch.tensor([0.9])\n",
        "y_true = torch.tensor([0], dtype=torch.float)\n",
        "\n",
        "loss = criterion(y_pred, y_true)\n",
        "print(f\"MSE Loss: {loss.item():0.2f}\")"
      ],
      "metadata": {
        "colab": {
          "base_uri": "https://localhost:8080/"
        },
        "id": "mmWPv4ItSOln",
        "outputId": "c28c1fd4-629d-46f4-ffb3-00c781f5f871"
      },
      "execution_count": null,
      "outputs": [
        {
          "output_type": "stream",
          "name": "stdout",
          "text": [
            "MSE Loss: 0.81\n"
          ]
        }
      ]
    },
    {
      "cell_type": "code",
      "source": [
        "criterion = nn.BCELoss()\n",
        "\n",
        "y_pred = torch.tensor([0.1])\n",
        "y_true = torch.tensor([0], dtype=torch.float)\n",
        "\n",
        "loss = criterion(y_pred, y_true)\n",
        "print(f\"Binary Cross Entropy Loss: {loss.item():0.2f}\")"
      ],
      "metadata": {
        "colab": {
          "base_uri": "https://localhost:8080/"
        },
        "id": "lkmOKqsOSht-",
        "outputId": "e67b9978-532e-4efb-c184-1746c994e0cf"
      },
      "execution_count": null,
      "outputs": [
        {
          "output_type": "stream",
          "name": "stdout",
          "text": [
            "Binary Cross Entropy Loss: 0.11\n"
          ]
        }
      ]
    },
    {
      "cell_type": "code",
      "source": [
        "criterion = nn.BCELoss()\n",
        "\n",
        "y_pred = torch.tensor([0.8, 0.2, 0.8, 0.9])\n",
        "y_true = torch.tensor([1, 0, 0, 1], dtype=torch.float)\n",
        "\n",
        "loss = criterion(y_pred, y_true)\n",
        "print(f\"Binary Cross Entropy Loss: {loss.item():0.2f}\")"
      ],
      "metadata": {
        "colab": {
          "base_uri": "https://localhost:8080/"
        },
        "id": "GEW-1g0TT7yM",
        "outputId": "951ec9e9-3040-47a4-ed4a-e5dcf89516a8"
      },
      "execution_count": null,
      "outputs": [
        {
          "output_type": "stream",
          "name": "stdout",
          "text": [
            "Binary Cross Entropy Loss: 0.54\n"
          ]
        }
      ]
    },
    {
      "cell_type": "code",
      "source": [],
      "metadata": {
        "id": "Sg07HhT8VQlj"
      },
      "execution_count": null,
      "outputs": []
    }
  ]
}