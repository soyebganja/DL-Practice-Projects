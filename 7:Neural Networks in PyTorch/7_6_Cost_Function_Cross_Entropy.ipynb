{
  "nbformat": 4,
  "nbformat_minor": 0,
  "metadata": {
    "colab": {
      "provenance": [],
      "authorship_tag": "ABX9TyOFrDoVYxSu0/8MHIfliSf3",
      "include_colab_link": true
    },
    "kernelspec": {
      "name": "python3",
      "display_name": "Python 3"
    },
    "language_info": {
      "name": "python"
    }
  },
  "cells": [
    {
      "cell_type": "markdown",
      "metadata": {
        "id": "view-in-github",
        "colab_type": "text"
      },
      "source": [
        "<a href=\"https://colab.research.google.com/github/soyebganja/DL-Practice-Projects/blob/main/7%3ANeural%20Networks%20in%20PyTorch/7_6_Cost_Function_Cross_Entropy.ipynb\" target=\"_parent\"><img src=\"https://colab.research.google.com/assets/colab-badge.svg\" alt=\"Open In Colab\"/></a>"
      ]
    },
    {
      "cell_type": "code",
      "execution_count": 1,
      "metadata": {
        "id": "r74KfBCsGdMz"
      },
      "outputs": [],
      "source": [
        "import torch\n",
        "import torch.nn as nn"
      ]
    },
    {
      "cell_type": "code",
      "source": [
        "loss_func = nn.CrossEntropyLoss()\n",
        "\n",
        "y_pred = torch.tensor([[0.1, 0.2, 0.7]]) # dog(0), cat(1) and koala(2)\n",
        "y_true = torch.tensor([2])\n",
        "\n",
        "loss = loss_func(y_pred, y_true)\n",
        "print(f\"Cross Entropy Loss: {loss.item():0.2f}\")"
      ],
      "metadata": {
        "colab": {
          "base_uri": "https://localhost:8080/"
        },
        "id": "2gra7x52GmeX",
        "outputId": "51630ec3-f3ef-4166-c25f-2475f65d1c2d"
      },
      "execution_count": 5,
      "outputs": [
        {
          "output_type": "stream",
          "name": "stdout",
          "text": [
            "Cross Entropy Loss: 0.77\n"
          ]
        }
      ]
    },
    {
      "cell_type": "code",
      "source": [
        "loss_func = nn.CrossEntropyLoss()\n",
        "\n",
        "y_pred = torch.tensor([[0.7, 0.2, 0.1]]) # dog(0), cat(1) and koala(2)\n",
        "y_true = torch.tensor([2])\n",
        "\n",
        "loss = loss_func(y_pred, y_true)\n",
        "print(f\"Cross Entropy Loss: {loss.item():0.2f}\")"
      ],
      "metadata": {
        "colab": {
          "base_uri": "https://localhost:8080/"
        },
        "id": "XEBnB0NdHYX8",
        "outputId": "d895f068-978e-4d23-9a72-4703e438fb0a"
      },
      "execution_count": 6,
      "outputs": [
        {
          "output_type": "stream",
          "name": "stdout",
          "text": [
            "Cross Entropy Loss: 1.37\n"
          ]
        }
      ]
    },
    {
      "cell_type": "code",
      "source": [],
      "metadata": {
        "id": "9-natKNDH8Vx"
      },
      "execution_count": null,
      "outputs": []
    }
  ]
}